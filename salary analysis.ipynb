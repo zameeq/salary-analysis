{
 "cells": [
  {
   "cell_type": "code",
   "execution_count": 24,
   "metadata": {},
   "outputs": [],
   "source": [
    "import pandas as pd\n",
    "import numpy as np\n",
    "import pickle\n",
    "\n",
    "\n",
    "datas=pd.read_csv('E:/Deployment-flask-master/hiring.csv')\n",
    "\n",
    "#data Preprocesssing\n",
    "datas['experience'].fillna(0,inplace=True)\n",
    "datas['test_score'].fillna(datas['test_score'].mean(),inplace=True)\n",
    "\n",
    "X=datas.iloc[:,:3]\n",
    "\n",
    "\n",
    "def convert_to_int(word):\n",
    "    word_dict={'one':1,'two':2,'three':3,'four':4,'five':5,'six':6,\n",
    "              'seven':7,'eight':8,'nine':9,'ten':10,'eleven':11,0:0}\n",
    "    return word_dict[word]\n",
    "X['experience'] = X['experience'].apply(lambda x : convert_to_int(x))\n",
    "\n",
    "y=datas.iloc[:,3:]\n",
    "\n",
    "from sklearn.linear_model import LinearRegression\n",
    "regressor=LinearRegression()\n",
    "regressor.fit(X,y)\n",
    "pickle.dump(regressor,open('E:/Deployment-flask-master/modle.pkl','wb'))\n",
    "\n"
   ]
  },
  {
   "cell_type": "code",
   "execution_count": null,
   "metadata": {},
   "outputs": [],
   "source": []
  },
  {
   "cell_type": "code",
   "execution_count": null,
   "metadata": {},
   "outputs": [],
   "source": []
  }
 ],
 "metadata": {
  "kernelspec": {
   "display_name": "Python 3",
   "language": "python",
   "name": "python3"
  },
  "language_info": {
   "codemirror_mode": {
    "name": "ipython",
    "version": 3
   },
   "file_extension": ".py",
   "mimetype": "text/x-python",
   "name": "python",
   "nbconvert_exporter": "python",
   "pygments_lexer": "ipython3",
   "version": "3.7.1"
  }
 },
 "nbformat": 4,
 "nbformat_minor": 2
}
